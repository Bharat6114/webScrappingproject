{
 "cells": [
  {
   "cell_type": "code",
   "execution_count": 2,
   "metadata": {},
   "outputs": [],
   "source": [
    "import requests\n",
    "from bs4 import BeautifulSoup\n",
    "import csv\n",
    "\n",
    "base_url=\"https://en.wikipedia.org/\"\n",
    "\n",
    "response = requests.get(base_url + \"wiki/2018_in_film\")\n",
    "\n",
    "response.status_code\n",
    "html_soup = BeautifulSoup(response.content, \"lxml\")\n"
   ]
  },
  {
   "cell_type": "code",
   "execution_count": 3,
   "metadata": {},
   "outputs": [
    {
     "data": {
      "text/plain": [
       "<Response [200]>"
      ]
     },
     "execution_count": 3,
     "metadata": {},
     "output_type": "execute_result"
    }
   ],
   "source": [
    "response"
   ]
  },
  {
   "cell_type": "code",
   "execution_count": 4,
   "metadata": {},
   "outputs": [],
   "source": [
    "wik = html_soup.find(\"table\", {\"class\":\"wikitable\"})\n"
   ]
  },
  {
   "cell_type": "code",
   "execution_count": 5,
   "metadata": {},
   "outputs": [],
   "source": [
    "tables = wik"
   ]
  },
  {
   "cell_type": "code",
   "execution_count": 7,
   "metadata": {},
   "outputs": [],
   "source": [
    "raw_trs = tables.find_all(\"tr\")"
   ]
  },
  {
   "cell_type": "code",
   "execution_count": 8,
   "metadata": {},
   "outputs": [
    {
     "data": {
      "text/plain": [
       "11"
      ]
     },
     "execution_count": 8,
     "metadata": {},
     "output_type": "execute_result"
    }
   ],
   "source": [
    "len(raw_trs)"
   ]
  },
  {
   "cell_type": "raw",
   "metadata": {},
   "source": [
    "clean_trs = raw_trs[0:12]"
   ]
  },
  {
   "cell_type": "code",
   "execution_count": 9,
   "metadata": {},
   "outputs": [],
   "source": [
    "clean_trs = raw_trs[0:12]"
   ]
  },
  {
   "cell_type": "code",
   "execution_count": 10,
   "metadata": {},
   "outputs": [],
   "source": [
    "raw_columns, raw_rows = clean_trs[0], clean_trs[1:]"
   ]
  },
  {
   "cell_type": "code",
   "execution_count": 11,
   "metadata": {},
   "outputs": [],
   "source": [
    "columns = [td.text.replace(\"\\n\",\"\") for td in raw_columns.find_all(\"th\")]"
   ]
  },
  {
   "cell_type": "code",
   "execution_count": 12,
   "metadata": {},
   "outputs": [
    {
     "data": {
      "text/plain": [
       "['Rank', 'Title', 'Distributor', 'Worldwide gross']"
      ]
     },
     "execution_count": 12,
     "metadata": {},
     "output_type": "execute_result"
    }
   ],
   "source": [
    "columns"
   ]
  },
  {
   "cell_type": "code",
   "execution_count": 13,
   "metadata": {},
   "outputs": [],
   "source": [
    "rows = [[td.text.strip().replace(\"\\n\",\"\") for td in row.find_all([\"th\",\"td\"])] for row in raw_rows]"
   ]
  },
  {
   "cell_type": "code",
   "execution_count": 14,
   "metadata": {},
   "outputs": [
    {
     "data": {
      "text/plain": [
       "[['1', 'Avengers: Infinity War', 'Disney', '$2,048,359,754'],\n",
       " ['2', 'Black Panther', '$1,347,913,161'],\n",
       " ['3', 'Jurassic World: Fallen Kingdom', 'Universal', '$1,309,484,461'],\n",
       " ['4', 'Incredibles 2', 'Disney', '$1,243,805,359'],\n",
       " ['5', 'Aquaman', 'Warner Bros.', '$1,148,661,807'],\n",
       " ['6', 'Bohemian Rhapsody', '20th Century Fox', '$903,755,259'],\n",
       " ['7', 'Venom', 'Sony', '$856,113,954'],\n",
       " ['8', 'Mission: Impossible – Fallout', 'Paramount', '$791,215,104'],\n",
       " ['9', 'Deadpool 2', '20th Century Fox', '$785,146,920'],\n",
       " ['10',\n",
       "  'Fantastic Beasts: The Crimes of Grindelwald',\n",
       "  'Warner Bros.',\n",
       "  '$653,855,901']]"
      ]
     },
     "execution_count": 14,
     "metadata": {},
     "output_type": "execute_result"
    }
   ],
   "source": [
    "rows"
   ]
  },
  {
   "cell_type": "code",
   "execution_count": 15,
   "metadata": {},
   "outputs": [],
   "source": [
    "def get_dict(**datas):\n",
    "    columns = datas.get('columns')\n",
    "    rows = datas.get('rows')\n",
    "    return [dict(zip(columns, row)) for row in rows]\n",
    "    "
   ]
  },
  {
   "cell_type": "code",
   "execution_count": 17,
   "metadata": {},
   "outputs": [],
   "source": [
    "datas = get_dict(columns=columns, rows=rows)"
   ]
  },
  {
   "cell_type": "code",
   "execution_count": 18,
   "metadata": {},
   "outputs": [
    {
     "data": {
      "text/plain": [
       "[{'Rank': '1',\n",
       "  'Title': 'Avengers: Infinity War',\n",
       "  'Distributor': 'Disney',\n",
       "  'Worldwide gross': '$2,048,359,754'},\n",
       " {'Rank': '2', 'Title': 'Black Panther', 'Distributor': '$1,347,913,161'},\n",
       " {'Rank': '3',\n",
       "  'Title': 'Jurassic World: Fallen Kingdom',\n",
       "  'Distributor': 'Universal',\n",
       "  'Worldwide gross': '$1,309,484,461'},\n",
       " {'Rank': '4',\n",
       "  'Title': 'Incredibles 2',\n",
       "  'Distributor': 'Disney',\n",
       "  'Worldwide gross': '$1,243,805,359'},\n",
       " {'Rank': '5',\n",
       "  'Title': 'Aquaman',\n",
       "  'Distributor': 'Warner Bros.',\n",
       "  'Worldwide gross': '$1,148,661,807'},\n",
       " {'Rank': '6',\n",
       "  'Title': 'Bohemian Rhapsody',\n",
       "  'Distributor': '20th Century Fox',\n",
       "  'Worldwide gross': '$903,755,259'},\n",
       " {'Rank': '7',\n",
       "  'Title': 'Venom',\n",
       "  'Distributor': 'Sony',\n",
       "  'Worldwide gross': '$856,113,954'},\n",
       " {'Rank': '8',\n",
       "  'Title': 'Mission: Impossible – Fallout',\n",
       "  'Distributor': 'Paramount',\n",
       "  'Worldwide gross': '$791,215,104'},\n",
       " {'Rank': '9',\n",
       "  'Title': 'Deadpool 2',\n",
       "  'Distributor': '20th Century Fox',\n",
       "  'Worldwide gross': '$785,146,920'},\n",
       " {'Rank': '10',\n",
       "  'Title': 'Fantastic Beasts: The Crimes of Grindelwald',\n",
       "  'Distributor': 'Warner Bros.',\n",
       "  'Worldwide gross': '$653,855,901'}]"
      ]
     },
     "execution_count": 18,
     "metadata": {},
     "output_type": "execute_result"
    }
   ],
   "source": [
    "datas"
   ]
  },
  {
   "cell_type": "code",
   "execution_count": 20,
   "metadata": {},
   "outputs": [],
   "source": [
    "import csv\n",
    "def write_to_csv(datas):\n",
    "    with open('top10highestworldwidegeosscollectionmovies.csv', 'w') as write_file:\n",
    "        writer = csv.DictWriter(write_file, fieldnames=datas[0].keys())\n",
    "        writer.writeheader()\n",
    "        writer.writerows(datas)"
   ]
  },
  {
   "cell_type": "code",
   "execution_count": 21,
   "metadata": {},
   "outputs": [],
   "source": [
    "write_to_csv(datas)"
   ]
  },
  {
   "cell_type": "code",
   "execution_count": 24,
   "metadata": {},
   "outputs": [],
   "source": [
    "less top10highestworldwidegeosscollectionmovies.csv"
   ]
  },
  {
   "cell_type": "code",
   "execution_count": null,
   "metadata": {},
   "outputs": [],
   "source": []
  }
 ],
 "metadata": {
  "kernelspec": {
   "display_name": "Python 3",
   "language": "python",
   "name": "python3"
  },
  "language_info": {
   "codemirror_mode": {
    "name": "ipython",
    "version": 3
   },
   "file_extension": ".py",
   "mimetype": "text/x-python",
   "name": "python",
   "nbconvert_exporter": "python",
   "pygments_lexer": "ipython3",
   "version": "3.7.0"
  }
 },
 "nbformat": 4,
 "nbformat_minor": 2
}
